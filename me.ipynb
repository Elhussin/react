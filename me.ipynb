{
 "cells": [
  {
   "cell_type": "code",
   "execution_count": null,
   "id": "9fd8959e",
   "metadata": {
    "vscode": {
     "languageId": "javascript"
    }
   },
   "outputs": [],
   "source": [
    "const x = 10;\n",
    "const y = 20;\n",
    "console.log(x + y);\n"
   ]
  },
  {
   "cell_type": "code",
   "execution_count": null,
   "id": "c45b0ae8",
   "metadata": {
    "vscode": {
     "languageId": "markdown"
    }
   },
   "outputs": [],
   "source": [
    "Jupyter Notebook is an open-source web application that allows you to create and share documents containing live code, equations, visualizations, and narrative text. It is widely used for data analysis, machine learning, scientific computing, and more.\n",
    "\n",
    "Key features of Jupyter Notebook:\n",
    "1. **Interactive Coding**: You c   an write and execute code in multiple programming languages (e.g., Python, R, Julia).\n",
    "2. **Rich Text Support**: Use Markdown to include formatted text, equations (via LaTeX), and images.\n",
    "3. **Data Visualization**: Integrates with libraries like Matplotlib, Seaborn, and Plotly for visualizing data.\n",
    "4. **Cell-Based Workflow**: Code and text are organized into cells, which can be executed independently.\n",
    "5. **Extensibility**: Supports extensions and widgets to enhance functionality.\n",
    "6. **Export Options**: Export notebooks to formats like HTML, PDF, or slides.\n",
    "\n",
    "Let me know if you'd like to explore a specific feature!"
   ]
  },
  {
   "cell_type": "markdown",
   "id": "96c74e69",
   "metadata": {},
   "source": []
  },
  {
   "cell_type": "markdown",
   "id": "61b6d728",
   "metadata": {},
   "source": []
  }
 ],
 "metadata": {
  "language_info": {
   "name": "python"
  }
 },
 "nbformat": 4,
 "nbformat_minor": 5
}
